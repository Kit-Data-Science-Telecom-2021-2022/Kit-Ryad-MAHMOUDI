{
 "cells": [
  {
   "cell_type": "code",
   "execution_count": 34,
   "id": "be114830",
   "metadata": {},
   "outputs": [],
   "source": [
    "def donuts(count):\n",
    "  if count<10:\n",
    "  \tphrase = f\"Number of donuts: {count}\"\n",
    "  else:\n",
    "  \tphrase = \"Number of donuts: many\"\n",
    "  return phrase"
   ]
  },
  {
   "cell_type": "code",
   "execution_count": 28,
   "id": "46dd197e",
   "metadata": {},
   "outputs": [],
   "source": [
    "def both_ends(s):\n",
    "  if len(s)<=2:\n",
    "  \tchaine=\"\"\n",
    "  else: \n",
    "  \tchaine = s[:2]+s[-2:]\n",
    "  return chaine"
   ]
  },
  {
   "cell_type": "code",
   "execution_count": 29,
   "id": "b1462645",
   "metadata": {},
   "outputs": [],
   "source": [
    "def fix_start(s):\n",
    "  if len(s) >=1:\n",
    "  \tpremier = s[0]\n",
    "  \ts=s.replace(premier,'*')\n",
    "  \ts=premier+s[1:]\n",
    "  return s\n"
   ]
  },
  {
   "cell_type": "code",
   "execution_count": 30,
   "id": "873fd255",
   "metadata": {},
   "outputs": [],
   "source": [
    "def mix_up(a, b):\n",
    "  a2=b[:2]+a[2:]\n",
    "  b2=a[:2]+b[2:]\t\n",
    "  chaine = a2 + \" \" + b2\n",
    "  return chaine"
   ]
  },
  {
   "cell_type": "code",
   "execution_count": 31,
   "id": "19ba17a7",
   "metadata": {},
   "outputs": [],
   "source": [
    "def test(got, expected):\n",
    "  if got == expected:\n",
    "    prefix = ' OK '\n",
    "  else:\n",
    "    prefix = '  X '\n",
    "  print(prefix,\" got : \",got,\" expected : \", expected)"
   ]
  },
  {
   "cell_type": "code",
   "execution_count": 36,
   "id": "1f94483d",
   "metadata": {},
   "outputs": [
    {
     "name": "stdout",
     "output_type": "stream",
     "text": [
      "donuts\n",
      " OK   got :  Number of donuts: 4  expected :  Number of donuts: 4\n",
      " OK   got :  Number of donuts: 9  expected :  Number of donuts: 9\n",
      " OK   got :  Number of donuts: many  expected :  Number of donuts: many\n",
      " OK   got :  Number of donuts: many  expected :  Number of donuts: many\n"
     ]
    }
   ],
   "source": [
    "print(\"donuts\")\n",
    "  # Each line calls donuts, compares its result to the expected for that call.\n",
    "test(donuts(4), 'Number of donuts: 4')\n",
    "test(donuts(9), 'Number of donuts: 9')\n",
    "test(donuts(10), 'Number of donuts: many')\n",
    "test(donuts(99), 'Number of donuts: many')"
   ]
  },
  {
   "cell_type": "code",
   "execution_count": 37,
   "id": "1d11f09f",
   "metadata": {},
   "outputs": [
    {
     "name": "stdout",
     "output_type": "stream",
     "text": [
      "both_ends\n",
      " OK   got :  spng  expected :  spng\n",
      " OK   got :  Helo  expected :  Helo\n",
      " OK   got :    expected :  \n",
      " OK   got :  xyyz  expected :  xyyz\n"
     ]
    }
   ],
   "source": [
    "print('both_ends')\n",
    "test(both_ends('spring'), 'spng')\n",
    "test(both_ends('Hello'), 'Helo')\n",
    "test(both_ends('a'), '')\n",
    "test(both_ends('xyz'), 'xyyz')"
   ]
  },
  {
   "cell_type": "code",
   "execution_count": 38,
   "id": "e9f88187",
   "metadata": {},
   "outputs": [
    {
     "name": "stdout",
     "output_type": "stream",
     "text": [
      "fix_start\n",
      " OK   got :  ba**le  expected :  ba**le\n",
      " OK   got :  a*rdv*rk  expected :  a*rdv*rk\n",
      " OK   got :  goo*le  expected :  goo*le\n",
      " OK   got :  donut  expected :  donut\n"
     ]
    }
   ],
   "source": [
    "print('fix_start')\n",
    "test(fix_start('babble'), 'ba**le')\n",
    "test(fix_start('aardvark'), 'a*rdv*rk')\n",
    "test(fix_start('google'), 'goo*le')\n",
    "test(fix_start('donut'), 'donut')"
   ]
  },
  {
   "cell_type": "code",
   "execution_count": 39,
   "id": "11cd4696",
   "metadata": {},
   "outputs": [
    {
     "name": "stdout",
     "output_type": "stream",
     "text": [
      "mix_up\n",
      " OK   got :  pox mid  expected :  pox mid\n",
      " OK   got :  dig donner  expected :  dig donner\n",
      " OK   got :  spash gnort  expected :  spash gnort\n",
      " OK   got :  fizzy perm  expected :  fizzy perm\n"
     ]
    }
   ],
   "source": [
    "print('mix_up')\n",
    "test(mix_up('mix', 'pod'), 'pox mid')\n",
    "test(mix_up('dog', 'dinner'), 'dig donner')\n",
    "test(mix_up('gnash', 'sport'), 'spash gnort')\n",
    "test(mix_up('pezzy', 'firm'), 'fizzy perm')"
   ]
  },
  {
   "cell_type": "code",
   "execution_count": null,
   "id": "c6b71490",
   "metadata": {},
   "outputs": [],
   "source": []
  }
 ],
 "metadata": {
  "kernelspec": {
   "display_name": "Python 3",
   "language": "python",
   "name": "python3"
  },
  "language_info": {
   "codemirror_mode": {
    "name": "ipython",
    "version": 3
   },
   "file_extension": ".py",
   "mimetype": "text/x-python",
   "name": "python",
   "nbconvert_exporter": "python",
   "pygments_lexer": "ipython3",
   "version": "3.8.8"
  }
 },
 "nbformat": 4,
 "nbformat_minor": 5
}
