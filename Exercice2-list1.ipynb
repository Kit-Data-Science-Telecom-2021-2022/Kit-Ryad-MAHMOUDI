{
 "cells": [
  {
   "cell_type": "code",
   "execution_count": 43,
   "id": "42789152",
   "metadata": {},
   "outputs": [],
   "source": [
    "def match_ends(words):\n",
    "  count = 0\t\n",
    "  for element in words:\n",
    "  \tif len(element)>=2 and element[:1]==element[-1:]:\n",
    "  \t\tcount = count+1\n",
    "  return count"
   ]
  },
  {
   "cell_type": "code",
   "execution_count": 44,
   "id": "6aab0ea6",
   "metadata": {},
   "outputs": [],
   "source": [
    "def front_x(words):\n",
    "  \n",
    "  liste_x = [element for element in words if element.startswith('x')]\n",
    "  liste_sx = [element for element in words if element not in liste_x]\n",
    "  liste_x.sort()\n",
    "  liste_sx.sort()\n",
    "  liste=liste_x+liste_sx\n",
    "  \n",
    "  return liste\n"
   ]
  },
  {
   "cell_type": "code",
   "execution_count": 45,
   "id": "d83b6c0a",
   "metadata": {},
   "outputs": [],
   "source": [
    "def sort_last(tuples):\n",
    "  tuples.sort(key=lambda x: x[-1:])\n",
    "  return tuples"
   ]
  },
  {
   "cell_type": "code",
   "execution_count": 46,
   "id": "2acce35d",
   "metadata": {},
   "outputs": [],
   "source": [
    "def test(got, expected):\n",
    "  if got == expected:\n",
    "    prefix = ' OK '\n",
    "  else:\n",
    "    prefix = '  X '\n",
    "  print(prefix,\"got: \",got,\" expected: \",expected)"
   ]
  },
  {
   "cell_type": "code",
   "execution_count": 47,
   "id": "1083d8a2",
   "metadata": {},
   "outputs": [
    {
     "name": "stdout",
     "output_type": "stream",
     "text": [
      "match_ends\n",
      " OK  got:  3  expected:  3\n",
      " OK  got:  2  expected:  2\n",
      " OK  got:  1  expected:  1\n"
     ]
    }
   ],
   "source": [
    "print('match_ends')\n",
    "test(match_ends(['aba', 'xyz', 'aa', 'x', 'bbb']), 3)\n",
    "test(match_ends(['', 'x', 'xy', 'xyx', 'xx']), 2)\n",
    "test(match_ends(['aaa', 'be', 'abc', 'hello']), 1)"
   ]
  },
  {
   "cell_type": "code",
   "execution_count": 49,
   "id": "16378941",
   "metadata": {},
   "outputs": [
    {
     "name": "stdout",
     "output_type": "stream",
     "text": [
      "front_x\n",
      " OK  got:  ['xaa', 'xzz', 'axx', 'bbb', 'ccc']  expected:  ['xaa', 'xzz', 'axx', 'bbb', 'ccc']\n",
      " OK  got:  ['xaa', 'xcc', 'aaa', 'bbb', 'ccc']  expected:  ['xaa', 'xcc', 'aaa', 'bbb', 'ccc']\n",
      " OK  got:  ['xanadu', 'xyz', 'aardvark', 'apple', 'mix']  expected:  ['xanadu', 'xyz', 'aardvark', 'apple', 'mix']\n"
     ]
    }
   ],
   "source": [
    "print('front_x')\n",
    "test(front_x(['bbb', 'ccc', 'axx', 'xzz', 'xaa']),['xaa', 'xzz', 'axx', 'bbb', 'ccc'])\n",
    "test(front_x(['ccc', 'bbb', 'aaa', 'xcc', 'xaa']),['xaa', 'xcc', 'aaa', 'bbb', 'ccc'])\n",
    "test(front_x(['mix', 'xyz', 'apple', 'xanadu', 'aardvark']),['xanadu', 'xyz', 'aardvark', 'apple', 'mix'])"
   ]
  },
  {
   "cell_type": "code",
   "execution_count": 50,
   "id": "6ca462b8",
   "metadata": {},
   "outputs": [
    {
     "name": "stdout",
     "output_type": "stream",
     "text": [
      "sort_last\n",
      " OK  got:  [(2, 1), (3, 2), (1, 3)]  expected:  [(2, 1), (3, 2), (1, 3)]\n",
      " OK  got:  [(3, 1), (1, 2), (2, 3)]  expected:  [(3, 1), (1, 2), (2, 3)]\n",
      " OK  got:  [(2, 2), (1, 3), (3, 4, 5), (1, 7)]  expected:  [(2, 2), (1, 3), (3, 4, 5), (1, 7)]\n"
     ]
    }
   ],
   "source": [
    "print('sort_last')\n",
    "test(sort_last([(1, 3), (3, 2), (2, 1)]),[(2, 1), (3, 2), (1, 3)])\n",
    "test(sort_last([(2, 3), (1, 2), (3, 1)]),[(3, 1), (1, 2), (2, 3)])\n",
    "test(sort_last([(1, 7), (1, 3), (3, 4, 5), (2, 2)]),[(2, 2), (1, 3), (3, 4, 5), (1, 7)])"
   ]
  },
  {
   "cell_type": "code",
   "execution_count": null,
   "id": "e31820a3",
   "metadata": {},
   "outputs": [],
   "source": []
  }
 ],
 "metadata": {
  "kernelspec": {
   "display_name": "Python 3",
   "language": "python",
   "name": "python3"
  },
  "language_info": {
   "codemirror_mode": {
    "name": "ipython",
    "version": 3
   },
   "file_extension": ".py",
   "mimetype": "text/x-python",
   "name": "python",
   "nbconvert_exporter": "python",
   "pygments_lexer": "ipython3",
   "version": "3.8.8"
  }
 },
 "nbformat": 4,
 "nbformat_minor": 5
}
