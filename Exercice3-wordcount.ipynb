{
 "cells": [
  {
   "cell_type": "code",
   "execution_count": 59,
   "id": "a12bfc28",
   "metadata": {},
   "outputs": [],
   "source": [
    "def liste_mots(filename):\n",
    "    f=open(filename,'r')\n",
    "    nbmots={}\n",
    "    for line in f:\n",
    "        strline=line.split()\n",
    "        for mot in strline:\n",
    "            mot = mot.lower()\n",
    "            if not mot in nbmots:\n",
    "                nbmots[mot]=1\n",
    "            else:\n",
    "                nbmots[mot]=nbmots[mot]+1\n",
    "    f.close()\n",
    "    \n",
    "\n",
    "    return nbmots        "
   ]
  },
  {
   "cell_type": "code",
   "execution_count": 73,
   "id": "a289cff8",
   "metadata": {},
   "outputs": [],
   "source": [
    "def print_words(filename):\n",
    "    nbmots=liste_mots(filename)\n",
    "    sorted(nbmots.keys())\n",
    "    for each in sorted(nbmots.keys()):\n",
    "        print(each, \" : \" ,nbmots[each])"
   ]
  },
  {
   "cell_type": "code",
   "execution_count": 81,
   "id": "049d24d5",
   "metadata": {},
   "outputs": [],
   "source": [
    "def print_top(filename):\n",
    "    nbmots=liste_mots(filename)\n",
    "    mots_tries = sorted(nbmots.items(), key=lambda x: x[1], reverse=True)\n",
    "    for each in mots_tries[:20]:\n",
    "        print(each[0], each[1])"
   ]
  },
  {
   "cell_type": "code",
   "execution_count": null,
   "id": "244216ea",
   "metadata": {},
   "outputs": [],
   "source": []
  }
 ],
 "metadata": {
  "kernelspec": {
   "display_name": "Python 3",
   "language": "python",
   "name": "python3"
  },
  "language_info": {
   "codemirror_mode": {
    "name": "ipython",
    "version": 3
   },
   "file_extension": ".py",
   "mimetype": "text/x-python",
   "name": "python",
   "nbconvert_exporter": "python",
   "pygments_lexer": "ipython3",
   "version": "3.8.8"
  }
 },
 "nbformat": 4,
 "nbformat_minor": 5
}
