{
 "cells": [
  {
   "cell_type": "code",
   "execution_count": 12,
   "id": "be114830",
   "metadata": {},
   "outputs": [],
   "source": [
    "def donuts(count):\n",
    "  if count<10:\n",
    "  \tphrase = f\"Number of donuts : {count}\"\n",
    "  else:\n",
    "  \tphrase = \"Number of donuts : many\"\n",
    "  return phrase"
   ]
  },
  {
   "cell_type": "code",
   "execution_count": 24,
   "id": "46dd197e",
   "metadata": {},
   "outputs": [],
   "source": [
    "def both_ends(s):\n",
    "  if len(s)<=2:\n",
    "  \tchaine=\"\"\n",
    "  else: \n",
    "  \tchaine = s[:2]+s[-2:]\n",
    "  return chaine"
   ]
  }
 ],
 "metadata": {
  "kernelspec": {
   "display_name": "Python 3 (ipykernel)",
   "language": "python",
   "name": "python3"
  },
  "language_info": {
   "codemirror_mode": {
    "name": "ipython",
    "version": 3
   },
   "file_extension": ".py",
   "mimetype": "text/x-python",
   "name": "python",
   "nbconvert_exporter": "python",
   "pygments_lexer": "ipython3",
   "version": "3.9.6"
  }
 },
 "nbformat": 4,
 "nbformat_minor": 5
}
