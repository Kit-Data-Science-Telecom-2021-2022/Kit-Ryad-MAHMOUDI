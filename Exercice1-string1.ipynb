{
 "cells": [
  {
   "cell_type": "code",
   "execution_count": 12,
   "id": "be114830",
   "metadata": {},
   "outputs": [],
   "source": [
    "def donuts(count):\n",
    "  if count<10:\n",
    "  \tphrase = f\"Number of donuts : {count}\"\n",
    "  else:\n",
    "  \tphrase = \"Number of donuts : many\"\n",
    "  return phrase"
   ]
  },
  {
   "cell_type": "code",
   "execution_count": 1,
   "id": "46dd197e",
   "metadata": {},
   "outputs": [],
   "source": [
    "def both_ends(s):\n",
    "  if len(s)<=2:\n",
    "  \tchaine=\"\"\n",
    "  else: \n",
    "  \tchaine = s[:2]+s[-2:]\n",
    "  return chaine"
   ]
  },
  {
   "cell_type": "code",
   "execution_count": 19,
   "id": "b1462645",
   "metadata": {},
   "outputs": [],
   "source": [
    "def fix_start(s):\n",
    "  if len(s) >=1:\n",
    "  \tpremier = s[0]\n",
    "  \ts=s.replace(premier,'*')\n",
    "  \ts=premier+s[1:]\n",
    "  return s\n"
   ]
  },
  {
   "cell_type": "code",
   "execution_count": 21,
   "id": "6facfc81",
   "metadata": {},
   "outputs": [
    {
     "name": "stdout",
     "output_type": "stream",
     "text": [
      "ryad**91\n"
     ]
    }
   ],
   "source": [
    "print(fix_start(\"ryadrr91\"))"
   ]
  },
  {
   "cell_type": "code",
   "execution_count": 15,
   "id": "8113c961",
   "metadata": {},
   "outputs": [],
   "source": [
    "s='ttest'"
   ]
  },
  {
   "cell_type": "code",
   "execution_count": 16,
   "id": "4cc79875",
   "metadata": {},
   "outputs": [
    {
     "ename": "TypeError",
     "evalue": "'str' object does not support item assignment",
     "output_type": "error",
     "traceback": [
      "\u001b[0;31m---------------------------------------------------------------------------\u001b[0m",
      "\u001b[0;31mTypeError\u001b[0m                                 Traceback (most recent call last)",
      "\u001b[0;32m<ipython-input-16-7f020176d33f>\u001b[0m in \u001b[0;36m<module>\u001b[0;34m\u001b[0m\n\u001b[0;32m----> 1\u001b[0;31m \u001b[0ms\u001b[0m\u001b[0;34m[\u001b[0m\u001b[0;36m0\u001b[0m\u001b[0;34m]\u001b[0m\u001b[0;34m=\u001b[0m\u001b[0;34m'b'\u001b[0m\u001b[0;34m\u001b[0m\u001b[0;34m\u001b[0m\u001b[0m\n\u001b[0m",
      "\u001b[0;31mTypeError\u001b[0m: 'str' object does not support item assignment"
     ]
    }
   ],
   "source": [
    "s[0]='b'"
   ]
  },
  {
   "cell_type": "code",
   "execution_count": null,
   "id": "eb0a8398",
   "metadata": {},
   "outputs": [],
   "source": []
  }
 ],
 "metadata": {
  "kernelspec": {
   "display_name": "Python 3",
   "language": "python",
   "name": "python3"
  },
  "language_info": {
   "codemirror_mode": {
    "name": "ipython",
    "version": 3
   },
   "file_extension": ".py",
   "mimetype": "text/x-python",
   "name": "python",
   "nbconvert_exporter": "python",
   "pygments_lexer": "ipython3",
   "version": "3.8.8"
  }
 },
 "nbformat": 4,
 "nbformat_minor": 5
}
