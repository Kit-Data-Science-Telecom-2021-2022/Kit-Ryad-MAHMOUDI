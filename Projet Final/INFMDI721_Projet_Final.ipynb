{
 "cells": [
  {
   "cell_type": "markdown",
   "metadata": {},
   "source": [
    "# MAHMOUDI Ryad\n",
    "\n",
    "\n",
    "# Projet Final Kit Data Science \n",
    "\n"
   ]
  },
  {
   "cell_type": "code",
   "execution_count": 1,
   "metadata": {},
   "outputs": [],
   "source": [
    "import requests\n",
    "import datetime\n",
    "import xlwings\n",
    "from bs4 import BeautifulSoup\n",
    "import pandas as pd\n",
    "import re\n",
    "import locale\n",
    "import datetime\n",
    "from shapely.geometry import Point, Polygon\n",
    "import geopandas as gpd\n",
    "import matplotlib.pyplot as plt\n",
    "import seaborn as sns\n",
    "locale.setlocale(locale.LC_ALL, 'fr')\n",
    "from sklearn.linear_model import LinearRegression\n",
    "from sklearn.model_selection import train_test_split\n",
    "import numpy as np\n",
    "sns.set_style(\"darkgrid\")"
   ]
  },
  {
   "cell_type": "code",
   "execution_count": 2,
   "metadata": {},
   "outputs": [],
   "source": [
    "#Fonction pour convertir les Latitudes/longitudes en décimal\n",
    "def dms2dec(dms_str):\n",
    "    dms_str = re.sub(r'\\s', '', dms_str)\n",
    "    sign = -1 if re.search('[swSW]', dms_str) else 1\n",
    "    numbers = [*filter(len, re.split('\\D+', dms_str, maxsplit=4))]\n",
    "    degree = numbers[0]\n",
    "    minute = numbers[1] if len(numbers) >= 2 else '0'\n",
    "    second = numbers[2] if len(numbers) >= 3 else '0'\n",
    "    frac_seconds = numbers[3] if len(numbers) >= 4 else '0'\n",
    "    second += \".\" + frac_seconds\n",
    "    return sign * (int(degree) + float(minute) / 60 + float(second) / 3600)"
   ]
  },
  {
   "cell_type": "code",
   "execution_count": 3,
   "metadata": {},
   "outputs": [],
   "source": [
    "#récupération de la liste des fichiers depuis le site internet, on les met ensuite dans une liste\n",
    "\n",
    "req = requests.get(\"https://www.vendeeglobe.org/fr/classement\")\n",
    "soup = BeautifulSoup(req.content)\n",
    "list_fichiers = soup.find_all(\"select\",{'class':\"form__input m--select onsubmit-rank\"})[0].find_all(\"option\",{'value':re.compile('[0-9]+')})\n",
    "for i in range(len(list_fichiers)):\n",
    "    list_fichiers[i]=\"vendeeglobe_\"+str(list_fichiers[i]).split('\"')[1]+\".xlsx\""
   ]
  },
  {
   "cell_type": "code",
   "execution_count": 4,
   "metadata": {},
   "outputs": [],
   "source": [
    "#Télechargement des fichiers et stockage sur le disque dure\n",
    "\n",
    "def download_xslx(url_download,list_files):\n",
    "    for element in list_files:\n",
    "        r = requests.get(url_download+element)\n",
    "        output = open(\"Data/\"+element, 'wb')\n",
    "        output.write(r.content)\n",
    "        output.close()\n",
    "    return\n",
    "\n",
    "# url_download = \"https://www.vendeeglobe.org/download-race-data/\"\n",
    "# download_xslx(url_download,list_fichiers)\n",
    "\n",
    "#Reparer les fichier xlsx sinon erreur : __init__() got an unexpected keyword argument 'xxid'\n",
    "\n",
    "def xlsx_broken(file):\n",
    "    excel_app = xlwings.App(visible=False)\n",
    "    excel_book = excel_app.books.open(file)\n",
    "    excel_book.save()\n",
    "    excel_book.close()\n",
    "    excel_app.quit()\n",
    "    return\n",
    "\n",
    "# for element in list_fichiers:\n",
    "#     xlsx_broken(\"Data/\"+element)"
   ]
  },
  {
   "cell_type": "code",
   "execution_count": 5,
   "metadata": {},
   "outputs": [],
   "source": [
    "#Récuperation/Scrapping des caractéristiques de chaque bateau\n",
    "\n",
    "def parsing_infos_bateaux():\n",
    "    r = requests.get(\"https://www.vendeeglobe.org/fr/glossaire\")\n",
    "    soup = BeautifulSoup(r.content)\n",
    "    res = soup.find_all('div',{'class': \"sv-u-1 sv-u-s-1-2 sv-u-m-1-3 sv-u-l-1-6\"})\n",
    "    boat_infos={}\n",
    "    for result in res:\n",
    "        Nom_bateau = result.find('h3',{'class':\"boats-list__boat-name\"}).text.title()\n",
    "        Nom_skipper = result.find('span',{'class':\"boats-list__skipper-name\"}).text.replace('  ', ' ').title() #enlever double espace\n",
    "        Num_voile =str(result.find(text=re.compile('Numéro de voile')))\n",
    "        Anciens_noms = str(result.find(text=re.compile('Anciens noms du bateau')))\n",
    "        Architecte = str(result.find(text=re.compile('Architecte')))\n",
    "        Chantier = str(result.find(text=re.compile('Chantier')))\n",
    "        Date_lancement = str(result.find(text=re.compile('Date de lancement')))\n",
    "        Longueur = str(result.find(text=re.compile('Longueur')))\n",
    "        Largeur = str(result.find(text=re.compile('Largeur')))\n",
    "        Tirant_eau = str(result.find(text=re.compile(\"Tirant d'eau\")))\n",
    "        Poids = str(result.find(text=re.compile('poids')))\n",
    "        Nb_derives = str(result.find(text=re.compile('Nombre de dérives')))\n",
    "        Hauteur_mat = str(result.find(text=re.compile('Hauteur mât')))\n",
    "        Voile_quille = str(result.find(text=re.compile('Voile quille')))\n",
    "        Surf_pres = str(result.find(text=re.compile('Surface de voiles au près')))\n",
    "        Surf_portant = str(result.find(text=re.compile('Surface de voiles au portant')))\n",
    "\n",
    "        boat_infos[Nom_skipper]={   \n",
    "            'Bateau':Nom_bateau,\n",
    "            'Numéro de voile':Num_voile.split(' : ')[1] if Num_voile != 'None' else None, \n",
    "            'Anciens noms du bateau':Anciens_noms.split(' : ')[1] if Anciens_noms != 'None' else 'NaN', \n",
    "            'Architecte':Architecte.split(' : ')[1] if Architecte != 'None' else 'None',\n",
    "            'Chantier':Chantier.split(' : ')[1] if Chantier != 'None' else None, \n",
    "            'Date de lancement':Date_lancement.split(' : ')[1] if Date_lancement != 'None' else None, \n",
    "            'Longueur':Longueur.split(' : ')[1] if Longueur != 'None' else None,\n",
    "            'Largeur':Largeur.split(' : ')[1] if Largeur != 'None' else None,\n",
    "            \"Tirant d'eau\":Tirant_eau.split(' : ')[1] if Tirant_eau != 'None' else None,\n",
    "            'Déplacement (poids)':Poids.split(' : ')[1] if Poids != 'None' else None,\n",
    "            'Nombre de dérives':Nb_derives.split(' : ')[1] if Nb_derives != 'None' else None,\n",
    "            'Hauteur mât':Hauteur_mat.split(' : ')[1] if Hauteur_mat != 'None' else None,\n",
    "            'Voile quille':Voile_quille.split(' : ')[1] if Voile_quille != 'None' else None,\n",
    "            'Surface de voiles au près':Surf_pres.split(' : ')[1] if Surf_pres != 'None' else None,\n",
    "            'Surface de voiles au portant':Surf_portant.split(' : ')[1] if Surf_portant != 'None' else None,  \n",
    "        }\n",
    "    return boat_infos\n",
    "        "
   ]
  },
  {
   "cell_type": "code",
   "execution_count": 6,
   "metadata": {},
   "outputs": [],
   "source": [
    "infos_bateaux = parsing_infos_bateaux()"
   ]
  },
  {
   "cell_type": "code",
   "execution_count": 7,
   "metadata": {
    "scrolled": false
   },
   "outputs": [],
   "source": [
    "#Fonction pour importer dans un DataFrame et nettoyer un fichier excel\n",
    "def excel_to_df(file):\n",
    "    \n",
    "    df = pd.read_excel(\"Data/\"+file,header=[3,4],nrows=33)\n",
    "    df = df.rename(columns=lambda x: x if not 'Unnamed' in str(x) else '')\n",
    "    df=df.drop(labels='',axis=1)\n",
    "    df = df.rename(columns=lambda x: x.split('\\n')[0])\n",
    "\n",
    "    index =[\n",
    "        'Rang',\n",
    "        'Nat. / Voile',\n",
    "        'Skipper / Bateau',\n",
    "        'Heure FR',\n",
    "        'Latitude',\n",
    "        'Longitude',\n",
    "        'Depuis 30 minutes Cap',\n",
    "        'Depuis 30 minutes Vitesse',\n",
    "        'Depuis 30 minutes VMG',\n",
    "        'Depuis 30 minutes Distance',\n",
    "        'Depuis le dernier classement Cap',\n",
    "        'Depuis le dernier classement Vitesse',\n",
    "        'Depuis le dernier classement VMG',\n",
    "        'Depuis le dernier classement Distance',\n",
    "        'Depuis 24 heures Cap',\n",
    "        'Depuis 24 heures Vitesse',\n",
    "        'Depuis 24 heures VMG',\n",
    "        'Depuis 24 heures Distance',\n",
    "        'DTF',\n",
    "        'DTL'  \n",
    "    ]\n",
    "\n",
    "    df.columns = index\n",
    "    \n",
    "    #Split des colonnes Skipper/Bateau et Nat./Voile\n",
    "    df[['Skipper','Bateau']]=df['Skipper / Bateau'].str.split('\\n',expand=True)\n",
    "    df[['Nationalité','Num. Voile']] = df['Nat. / Voile'].str.replace('\\n','').str.split(' ',expand=True)\n",
    "    df = df.drop(['Nat. / Voile','Skipper / Bateau'],axis=1)\n",
    "\n",
    "    \n",
    "    df.loc[df['Nationalité'].str.contains(\"FR\"),'Nationalité'] = 'FRA' #supprimer les FRFRA\n",
    "    \n",
    "    df[\"Heure FR\"]=df[\"Heure FR\"].str.split(\" FR\").str[0] #On garde uniquement l'heure, suppression du texte\n",
    "    \n",
    "    #Mapping entre les noms issues des infos récupérées sur le site et le dataframe\n",
    "    list_noms = list(infos_bateaux)\n",
    "    list_noms.sort()\n",
    "    mapping_noms = {df[\"Skipper\"].sort_values(ignore_index=True)[i]:list_noms[i] for i in range(len(list_noms))}\n",
    "    df[\"Skipper\"]=df[\"Skipper\"].map(mapping_noms)\n",
    "\n",
    "    #Mapping entre les fichiers excel et les caracteristiques des bateaux\n",
    "    dfcarac = pd.DataFrame(infos_bateaux).transpose()\n",
    "\n",
    "    out = (df.merge(dfcarac, left_on='Skipper', right_index=True,copy=False))\n",
    "    out=out.drop(\"Bateau_x\",axis=1)\n",
    "    out=out.drop(\"Numéro de voile\",axis=1)\n",
    "\n",
    "    out.rename(columns = {'Bateau_y' : 'Bateau'}, inplace = True)\n",
    "    out=out.iloc[:, [0]+list(range(18,35))+list(range(1,18))] #reordonner les colonnes\n",
    "    \n",
    "    out.loc[out['Nombre de dérives'].str.contains(\"foil\"),'Nombre de dérives'] = 'foils' #remplacer les 'foiler' par 'foils'\n",
    "    \n",
    "    #Formater les types\n",
    "    \n",
    "    #Création colonne Date = Date+Heure et suppression de la colonne Heure FR\n",
    "    out.insert(0,\"Date\",pd.Series(pd.to_datetime(file.split(\"_\")[1]+\" \"+df[\"Heure FR\"])))\n",
    "    out.drop(labels=\"Heure FR\",axis=1,inplace=True)\n",
    "\n",
    "    #Date de lancement -> type : date\n",
    "    out[\"Date de lancement\"]=out[\"Date de lancement\"].apply(lambda x: datetime.datetime.strptime(x, '%d %B %Y'))\n",
    "    \n",
    "    #Longeur -> type : float\n",
    "    out[\"Longueur\"]=out[\"Longueur\"].str.split(\"m\").str[0].str.replace(',','.').apply(pd.to_numeric,errors='coerce')\n",
    "    \n",
    "    #Largeur -> type : float\n",
    "    out[\"Largeur\"]=out[\"Largeur\"].str.split(\"m\").str[0].str.replace(',','.').apply(pd.to_numeric,errors='coerce')\n",
    "    \n",
    "    #Tirant d'eau -> type : float\n",
    "    out[\"Tirant d'eau\"]=out[\"Tirant d'eau\"].str.split(\"m\").str[0].str.replace(',','.').apply(pd.to_numeric,errors='coerce')\n",
    "    \n",
    "    #Poids -> type : tonne\n",
    "    out[\"Déplacement (poids)\"]=out[\"Déplacement (poids)\"].str.split(\"t\").str[0].str.replace(',','.').apply(pd.to_numeric,errors='coerce')\n",
    "    out.rename(columns={\"Déplacement (poids)\":'Poids'},inplace=True)\n",
    "    \n",
    "    #Hauteur du mât -> type : float\n",
    "    out[\"Hauteur mât\"]=out[\"Hauteur mât\"].str.split(\"m\").str[0].str.replace(',','.').apply(pd.to_numeric,errors='coerce')\n",
    "    \n",
    "    #Surface de voiles au près -> type : int\n",
    "    out[\"Surface de voiles au près\"]=out[\"Surface de voiles au près\"].str.split(\"m\").str[0].str.replace(',','.').apply(pd.to_numeric,errors='coerce')\n",
    "    \n",
    "    #Surface de voiles au portant -> type : int\n",
    "    out[\"Surface de voiles au portant\"]=out[\"Surface de voiles au portant\"].str.split(\"m\").str[0].str.replace(',','.').apply(pd.to_numeric,errors='coerce')\n",
    "    \n",
    "    #Cap -> type : float\n",
    "    out[(\"Depuis 30 minutes Cap\")]=out[(\"Depuis 30 minutes Cap\")].str.split(\"°\").str[0].str.replace(',','.').apply(pd.to_numeric,errors='coerce')\n",
    "    out[(\"Depuis le dernier classement Cap\")]=out[(\"Depuis le dernier classement Cap\")].str.split(\"°\").str[0].str.replace(',','.').apply(pd.to_numeric,errors='coerce')\n",
    "    out[(\"Depuis 24 heures Cap\")]=out[(\"Depuis 24 heures Cap\")].str.split(\"°\").str[0].str.replace(',','.').apply(pd.to_numeric,errors='coerce')\n",
    "    \n",
    "    #Vitesse -> type : float\n",
    "    out[(\"Depuis 30 minutes Vitesse\")]=out[(\"Depuis 30 minutes Vitesse\")].str.split(\"kts\").str[0].str.replace(',','.').apply(pd.to_numeric,errors='coerce')\n",
    "    out[(\"Depuis le dernier classement Vitesse\")]=out[(\"Depuis le dernier classement Vitesse\")].str.split(\"kts\").str[0].str.replace(',','.').apply(pd.to_numeric,errors='coerce')\n",
    "    out[(\"Depuis 24 heures Vitesse\")]=out[(\"Depuis 24 heures Vitesse\")].str.split(\"kts\").str[0].str.replace(',','.').apply(pd.to_numeric,errors='coerce')\n",
    "\n",
    "    #VMG -> type : float\n",
    "    out[(\"Depuis 30 minutes VMG\")]=out[(\"Depuis 30 minutes VMG\")].str.split(\"kts\").str[0].str.replace(',','.').apply(pd.to_numeric,errors='coerce')\n",
    "    out[(\"Depuis le dernier classement VMG\")]=out[(\"Depuis le dernier classement VMG\")].str.split(\"kts\").str[0].str.replace(',','.').apply(pd.to_numeric,errors='coerce')\n",
    "    out[(\"Depuis 24 heures VMG\")]=out[(\"Depuis 24 heures VMG\")].str.split(\"kts\").str[0].str.replace(',','.').apply(pd.to_numeric,errors='coerce')\n",
    "    \n",
    "    #Distance -> type : float\n",
    "    out[(\"Depuis 30 minutes Distance\")]=out[(\"Depuis 30 minutes Distance\")].str.split(\"nm\").str[0].str.replace(',','.').apply(pd.to_numeric,errors='coerce')\n",
    "    out[(\"Depuis le dernier classement Distance\")]=out[(\"Depuis le dernier classement Distance\")].str.split(\"nm\").str[0].str.replace(',','.').apply(pd.to_numeric,errors='coerce')\n",
    "    out[(\"Depuis 24 heures Distance\")]=out[(\"Depuis 24 heures Distance\")].str.split(\"nm\").str[0].str.replace(',','.').apply(pd.to_numeric,errors='coerce')\n",
    "    \n",
    "    #DTL -> type : float\n",
    "    out[\"DTF\"]=out[\"DTF\"].str.split(\"nm\").str[0].str.replace(',','.').apply(pd.to_numeric,errors='coerce')\n",
    "    \n",
    "    #DTF -> type : float\n",
    "    out[\"DTL\"]=out[\"DTL\"].str.split(\"nm\").str[0].str.replace(',','.').apply(pd.to_numeric,errors='coerce')\n",
    "    \n",
    "    #Rang -> type : int \n",
    "    out['Rang']=out['Rang'].apply(pd.to_numeric,errors='coerce')\n",
    "    out=out.dropna(axis=0,subset=out.columns[[1]])\n",
    "    out['Rang']=out['Rang'].astype(int)\n",
    "    \n",
    "    #Latitude,Longitude -> type : decimal\n",
    "    out[\"Latitude\"]=df[\"Latitude\"].map(lambda x: dms2dec(x) if type(x) == str else x)\n",
    "    out[\"Longitude\"]=df[\"Longitude\"].map(lambda x: dms2dec(x) if type(x) == str else x)\n",
    "    \n",
    "    return out"
   ]
  },
  {
   "cell_type": "markdown",
   "metadata": {},
   "source": [
    "### Chargement des fichiers dans un DataFrame"
   ]
  },
  {
   "cell_type": "code",
   "execution_count": null,
   "metadata": {},
   "outputs": [
    {
     "name": "stderr",
     "output_type": "stream",
     "text": [
      "C:\\Users\\ryadm\\anaconda3\\envs\\DataRyad\\lib\\site-packages\\pandas\\core\\generic.py:4150: PerformanceWarning: dropping on a non-lexsorted multi-index without a level parameter may impact performance.\n",
      "  obj = obj._drop_axis(labels, axis, level=level, errors=errors)\n"
     ]
    }
   ],
   "source": [
    "#Dernier fichier avant 1er arrivé : vendeeglobe_20210127_140000.xlsx\n",
    "index_dernier = len(list_fichiers)-list_fichiers.index(\"vendeeglobe_20210127_140000.xlsx\")\n",
    "list_a_charger = list_fichiers[-index_dernier:][::-1][1:] #On ne prend pas en compte le 1er fichier qui est vide\n",
    "\n",
    "df=pd.DataFrame()#Initialisation d'un nouveau DataFrame\n",
    "\n",
    "#traitement des fichiers puis concatenation pour les ajouter au df\n",
    "for file in list_a_charger:\n",
    "    df=pd.concat(objs=[df,excel_to_df(file)],axis=0)"
   ]
  },
  {
   "cell_type": "code",
   "execution_count": null,
   "metadata": {},
   "outputs": [],
   "source": [
    "df"
   ]
  },
  {
   "cell_type": "markdown",
   "metadata": {},
   "source": [
    "### Corrélation et régression linéaire entre le classement (rang) et la vitesse utile (VMG) des voiliers."
   ]
  },
  {
   "cell_type": "code",
   "execution_count": null,
   "metadata": {},
   "outputs": [],
   "source": [
    "X=df.loc[df[\"Depuis 24 heures VMG\"]>0,\"Depuis 24 heures VMG\"].values.reshape(-1,1)\n",
    "Y=df.loc[df[\"Depuis 24 heures VMG\"]>0,'Rang'].values\n",
    "X_train,X_test,Y_train,Y_test=train_test_split(X,Y, test_size=0.25, random_state=0)"
   ]
  },
  {
   "cell_type": "code",
   "execution_count": null,
   "metadata": {},
   "outputs": [],
   "source": [
    "linearRegr=LinearRegression().fit(X_train,Y_train)"
   ]
  },
  {
   "cell_type": "code",
   "execution_count": null,
   "metadata": {},
   "outputs": [],
   "source": [
    "Y_pred=linearRegr.predict(X_test)"
   ]
  },
  {
   "cell_type": "code",
   "execution_count": null,
   "metadata": {},
   "outputs": [],
   "source": [
    "fig = plt.figure(figsize=(12, 7));\n",
    "ax = fig.add_subplot()\n",
    "ax.scatter(x=X_test, y=Y_test, alpha=0.7, label='Données de test')\n",
    "ax.plot(X_test, Y_pred, color='orange', alpha=1, label='Prédictions par le modèle sur les données de test')\n",
    "\n",
    "ax.set_xlabel('VMG (Depuis 24 heures) en kts');\n",
    "ax.set_ylabel('Rang');\n",
    "ax.set_title('Régression linéaire entre le Rang et la VMG (24h)');\n",
    "ax.legend()\n",
    "plt.show()"
   ]
  },
  {
   "cell_type": "markdown",
   "metadata": {},
   "source": [
    "### Impact de la présence d'un foil sur le classement et la vitesse des voiliers."
   ]
  },
  {
   "cell_type": "code",
   "execution_count": null,
   "metadata": {},
   "outputs": [],
   "source": [
    "#Création de la figure\n",
    "fig=plt.figure(figsize=(13, 3))\n",
    "\n",
    "#Sélection des colonnes Rang, Nombre de dérives et vitesse depuis 30 min\n",
    "var = df[[\"Rang\",\"Nombre de dérives\",'Depuis 30 minutes Vitesse']]\n",
    "\n",
    "#Groupby Nombre de dérives et moyenne\n",
    "var=var.groupby(\"Nombre de dérives\").agg('mean')\n",
    "\n",
    "#Subplots\n",
    "ax1 = fig.add_subplot(121)\n",
    "ax2 = fig.add_subplot(122)\n",
    "\n",
    "#Tracé de la vitesse  en fonction du nombre de dérives\n",
    "sns.barplot(data=var, x='Depuis 30 minutes Vitesse', y=var.index,ax=ax1)\n",
    "ax1.set_title(\"Impact de la présence d'un foil sur la Vitesse (30 min) en kts\")\n",
    "ax1.set_ylabel(\"Nombre de dérives\")\n",
    "ax1.set_xlabel(\"Vitesse en kts (30 min)\")\n",
    "#Tracé du rang en fonction du nombre de dérive\n",
    "sns.barplot(data=var, x='Rang', y=var.index,ax=ax2)\n",
    "ax2.set_title(\"Impact de la présence d'un foil sur le Rang\")\n",
    "ax2.set_ylabel(\"Nombre de dérives\")\n",
    "\n",
    "\n",
    "fig.tight_layout(pad=3.2) #sépration horizontale\n",
    "plt.show()\n"
   ]
  },
  {
   "cell_type": "markdown",
   "metadata": {},
   "source": [
    "On peut s'appercevoir que les bateaux équipés de foils sont plus performants :\n",
    "- Ils ont une vitesse plus élévée en moyenne\n",
    "- Ils sont en moyenne mieux classés\n",
    "\n",
    "Les bateaux équipés de 2 dérives asymétriques sont en moyenne les moins performants"
   ]
  },
  {
   "cell_type": "markdown",
   "metadata": {},
   "source": [
    "### Visualisation de la distance parcourue par voilier."
   ]
  },
  {
   "cell_type": "markdown",
   "metadata": {},
   "source": [
    "#### Evolution de la distance parcourue jour après jour"
   ]
  },
  {
   "cell_type": "code",
   "execution_count": null,
   "metadata": {},
   "outputs": [],
   "source": [
    "#Séléction de 4 Skipper au hasard\n",
    "Skipper_choice = np.random.choice(df['Skipper'].unique(), 4,replace=False)\n",
    "\n",
    "#Tracé de l'évolution de la distance parcourue\n",
    "fig, ax = plt.subplots(figsize=(13,6))\n",
    "df.pivot_table(index='Date',columns=\"Skipper\",values=\"Depuis le dernier classement Distance\")[Skipper_choice].cumsum().plot(ax=ax)\n",
    "\n",
    "plt.xlabel(\"Date\")\n",
    "plt.ylabel(\"Distance (nm) totale parcourue au jour J\")\n",
    "plt.title(\"Evolution de la distance parcourue\")\n",
    "plt.legend()\n",
    "plt.show()\n"
   ]
  },
  {
   "cell_type": "markdown",
   "metadata": {},
   "source": [
    "#### Distance moyenne parcourue par jour par chaque Skipper"
   ]
  },
  {
   "cell_type": "code",
   "execution_count": null,
   "metadata": {},
   "outputs": [],
   "source": [
    "fig3=plt.figure(figsize=(15, 10))\n",
    "sns.barplot(data=df, x='Depuis 24 heures Distance', y=\"Skipper\",hue=\"Nombre de dérives\")\n",
    "plt.xlabel(\"Distance moyenne en nm\")\n",
    "plt.title(\"Distance moyenne journalière pour chacun des Skipper selon le nombre de dérives\")\n",
    "plt.show()"
   ]
  },
  {
   "cell_type": "markdown",
   "metadata": {},
   "source": [
    "#### Impact de la date de lancement du Bateau sur la vitesse"
   ]
  },
  {
   "cell_type": "code",
   "execution_count": null,
   "metadata": {},
   "outputs": [],
   "source": [
    "fig4,ax = plt.subplots(2,1,figsize=(13,23))\n",
    "#Affichage de toutes les dates\n",
    "sns.barplot(x=df[\"Depuis 24 heures Vitesse\"],y=df[\"Date de lancement\"].dt.date,ax=ax[0])\n",
    "\n",
    "#Resample par années\n",
    "var=df.pivot_table(index=\"Date de lancement\",values=\"Depuis 24 heures Vitesse\").resample(\"Y\").mean().dropna(axis=0).reset_index(level=0)\n",
    "sns.barplot(x=var[\"Depuis 24 heures Vitesse\"],y=var[\"Date de lancement\"].dt.year.astype(str),ax=ax[1])"
   ]
  },
  {
   "cell_type": "markdown",
   "metadata": {},
   "source": [
    "On remarque que la date de fabrication n'est pas vraiement significative sur la vitesse"
   ]
  },
  {
   "cell_type": "markdown",
   "metadata": {},
   "source": [
    "### Analyse de séries temporelles"
   ]
  },
  {
   "cell_type": "markdown",
   "metadata": {},
   "source": [
    "#### Evolution du rang en fonction du temps"
   ]
  },
  {
   "cell_type": "code",
   "execution_count": null,
   "metadata": {},
   "outputs": [],
   "source": [
    "\n",
    "#Création d'un nouveau df avec une moyenne glissante sur 1 mois, remplissage des NA par interpolation\n",
    "dfrang = df.pivot_table(values='Rang', index='Date',columns=\"Skipper\",aggfunc='mean').interpolate().rolling('30d').mean()\n",
    "\n",
    "#Tracé des données\n",
    "fig5=plt.figure(figsize=(15, 10))\n",
    "sns.lineplot(data=dfrang)\n",
    "plt.xlabel(\"Date\")\n",
    "plt.ylabel(\"Rang\")\n",
    "plt.title(\"Evolution du rang en fonction du temps (moyenne sur 1 mois)\")\n",
    "plt.legend(loc='upper left', bbox_to_anchor=(0.8, 1.05),\n",
    "          ncol=3, fancybox=True, shadow=True)\n",
    "plt.show()"
   ]
  },
  {
   "cell_type": "markdown",
   "metadata": {},
   "source": [
    "On s'appercoit que le rang est très variables les 2 premières semaines. Par la suite, les personnes classées en dessous de la 10ème place gardent leurs rangs pratiquement stable.\n",
    "A l'inverse les 10 premières places continuent d'être très variables, le podium quant à lui jusqu'aux derniers jours."
   ]
  },
  {
   "cell_type": "markdown",
   "metadata": {},
   "source": [
    "#### Evolution de la vitesse en fonction du temps"
   ]
  },
  {
   "cell_type": "code",
   "execution_count": null,
   "metadata": {},
   "outputs": [],
   "source": [
    "fig, axes = plt.subplots(3,1,figsize=(10, 12))\n",
    "\n",
    "df.pivot_table(index='Date',columns=\"Skipper\",\n",
    "               values=\"Depuis 30 minutes Vitesse\")[Skipper_choice].plot(ax=axes[0],ylabel=\"Vitesse (kts) depuis 30 minutes\")\n",
    "\n",
    "df.pivot_table(index='Date',columns=\"Skipper\",\n",
    "               values=\"Depuis 24 heures Vitesse\")[Skipper_choice].plot(ax=axes[1],ylabel=\"Vitesse (kts) depuis 24 heures\")\n",
    "\n",
    "df.pivot_table(index='Date',columns=\"Skipper\",\n",
    "               values=\"Depuis le dernier classement Vitesse\")[Skipper_choice].plot(ax=axes[2],\n",
    "                                                                                    ylabel=\"Vitesse (kts) depuis le dernier classement\")\n",
    "\n",
    "fig.subplots_adjust(hspace=0.7)\n",
    "for axe in axes:\n",
    "    axe.set_xlabel(\"Date\")"
   ]
  },
  {
   "cell_type": "markdown",
   "metadata": {},
   "source": [
    "### Carte avec les routes d'un ou plusieurs voiliers."
   ]
  },
  {
   "cell_type": "code",
   "execution_count": null,
   "metadata": {},
   "outputs": [],
   "source": [
    "#Création d'un geoDatFrame à partir du DataFrame de base\n",
    "gdf=df[[\"Skipper\",\"Longitude\",\"Latitude\"]]#Sélection des colonnes\n",
    "gdf = gpd.GeoDataFrame(gdf, geometry=gpd.points_from_xy(df.Longitude, df.Latitude))#Création d'une colonne geometry\n",
    "\n",
    "#Tracé de la carte du monde téléchargée sur naturalearthdata\n",
    "fig,ax = plt.subplots(figsize=(15,15))\n",
    "shp_path = \"ne_10m_land/ne_10m_land.shp\"\n",
    "mapland = gpd.read_file(shp_path)\n",
    "mapland.plot(ax=ax,color='lightgrey')\n",
    "\n",
    "#Tracé des routes des 4 Skippers\n",
    "for element in Skipper_choice:\n",
    "    gdf.loc[gdf[\"Skipper\"]==element,\"geometry\"].plot(ax=ax,markersize=2.5,label=element)\n",
    "plt.legend()\n",
    "plt.title(\"Route des 4 voiliers tirés au hasard\")\n",
    "plt.show()"
   ]
  },
  {
   "cell_type": "markdown",
   "metadata": {},
   "source": [
    "### Story telling"
   ]
  },
  {
   "cell_type": "code",
   "execution_count": null,
   "metadata": {},
   "outputs": [],
   "source": [
    "#Résultats finaux de la course\n",
    "def resultat_course():\n",
    "    data = pd.read_excel(\"data/vendeeglobe_20210305_080000.xlsx\",header=4,skipfooter=4)\n",
    "\n",
    "    data = data[[\"Unnamed: 1\", \"Unnamed: 2\",\"Unnamed: 3\",\"Unnamed: 7\",\"Unnamed: 8\",\"Vitesse\\nSpeed.1\",\"Distance\\nDistance.1\"]]\n",
    "    data.columns=['Rang Final','Nat. / Voile','Skipper / Bateau',\"Date d'arrivée\",\"Temps de course\",\"Vitesse\",\"Distance\"]\n",
    "    data['Rang Final'] = data['Rang Final'].str.split('\\n').str[0]\n",
    "    data[['Skipper','Bateau']]=data['Skipper / Bateau'].str.split('\\n',expand=True)\n",
    "    data[['Nationalité','Num. Voile']] = data['Nat. / Voile'].str.replace('\\n','').str.split(' ',expand=True)\n",
    "    data = data.drop(['Nat. / Voile','Skipper / Bateau'],axis=1)\n",
    "    \n",
    "    data[\"Rang Final\"]=data[\"Rang Final\"].str.replace(\"RET\",\"ABANDON\")\n",
    "    \n",
    "    \n",
    "    #Conversion temps de course en timedelta\n",
    "    data[\"Temps de course\"]=data[\"Temps de course\"].astype(str).apply(lambda x:x.split('\\n')[0])\n",
    "    data[\"Temps de course\"]=data[\"Temps de course\"].astype(str).apply(lambda x:x.replace('s',''))\n",
    "    data[\"Temps de course\"]=data[\"Temps de course\"].astype(str).apply(lambda x:x.replace('j',' days'))\n",
    "    data[\"Temps de course\"]=data[\"Temps de course\"].astype(str).apply(lambda x:x.replace('h ',':'))\n",
    "    data[\"Temps de course\"]=data[\"Temps de course\"].astype(str).apply(lambda x:x.replace('min ',':'))\n",
    "\n",
    "    data[\"Temps de course\"]=data[\"Temps de course\"].apply(lambda x: pd.to_timedelta(x))\n",
    "\n",
    "    #Conversion Date d'arrivée en date time\n",
    "    data[\"Date d'arrivée\"]=data[\"Date d'arrivée\"].astype(str).apply(lambda x:x.split(\"FR\")[0])\n",
    "    data[\"Date d'arrivée\"]=pd.to_datetime(data[\"Date d'arrivée\"])\n",
    "\n",
    "    #Conversion Vitesse en float\n",
    "    data[\"Vitesse\"]=data[\"Vitesse\"].astype(str).apply(lambda x:x.split(\" \")[0])\n",
    "    data[\"Vitesse\"]=pd.to_numeric(data[\"Vitesse\"],errors=\"coerce\")\n",
    "\n",
    "    #Conversion Distance en float\n",
    "    data[\"Distance\"]=data[\"Distance\"].astype(str).apply(lambda x:x.split(\" \")[0])\n",
    "    data[\"Distance\"]=pd.to_numeric(data[\"Distance\"],errors=\"coerce\")\n",
    "\n",
    "    #Reordonner les colonnes\n",
    "    data=data.iloc[:, [0,5,6,7,8,1,2,4,3]] #reordonner les colonnes\n",
    "\n",
    "    #Jointure avec les caractéristiques techniques\n",
    "\n",
    "    list_noms = list(infos_bateaux)\n",
    "    list_noms.sort()\n",
    "    mapping_noms = {data[\"Skipper\"].sort_values(ignore_index=True)[i]:list_noms[i] for i in range(len(list_noms))}\n",
    "    data[\"Skipper\"]=data[\"Skipper\"].map(mapping_noms)\n",
    "\n",
    "    dfcarac = pd.DataFrame(infos_bateaux).transpose() #caracteristiques to dataframe\n",
    "\n",
    "    data = (data.merge(dfcarac, left_on='Skipper', right_index=True,copy=False))\n",
    "    data=data.drop(\"Bateau_x\",axis=1) #Suppression doublon\n",
    "    data=data.drop(\"Numéro de voile\",axis=1) #Suppression doublon\n",
    "    data.rename(columns = {'Bateau_y' : 'Bateau'}, inplace = True)\n",
    "    data.loc[data['Nombre de dérives'].str.contains(\"foil\"),'Nombre de dérives'] = 'foils' #remplacer les 'foiler' par 'foils'\n",
    "    \n",
    "    #Conversion Date de lancement en datetime\n",
    "    data[\"Date de lancement\"]=data[\"Date de lancement\"].astype(str).apply(lambda x:datetime.datetime.strptime(x,\"%d %B %Y\"))\n",
    "    return data"
   ]
  },
  {
   "cell_type": "code",
   "execution_count": null,
   "metadata": {},
   "outputs": [],
   "source": [
    "df_resultats=resultat_course()"
   ]
  },
  {
   "cell_type": "markdown",
   "metadata": {},
   "source": [
    "#### Classement final"
   ]
  },
  {
   "cell_type": "code",
   "execution_count": null,
   "metadata": {},
   "outputs": [],
   "source": [
    "df_resultats[[\"Rang Final\",\"Skipper\",\"Bateau\"]]"
   ]
  },
  {
   "cell_type": "markdown",
   "metadata": {},
   "source": [
    "#### Impact de la date de lancement sur le rang final"
   ]
  },
  {
   "cell_type": "code",
   "execution_count": null,
   "metadata": {},
   "outputs": [],
   "source": [
    "fig=plt.figure(figsize=(13,6))\n",
    "var = df_resultats.loc[df_resultats[\"Rang Final\"]!=\"ABANDON\",[\"Date de lancement\",\"Rang Final\"]]\n",
    "sns.barplot(x=var[\"Rang Final\"].astype(int),y=var[\"Date de lancement\"].dt.date)\n",
    "plt.title(\"Date de lancement en fonction du rang final\")\n",
    "plt.show()"
   ]
  },
  {
   "cell_type": "markdown",
   "metadata": {},
   "source": [
    "#### Quel est l'équipage qui est arrivé le plus premier ?"
   ]
  },
  {
   "cell_type": "code",
   "execution_count": null,
   "metadata": {},
   "outputs": [],
   "source": [
    "df.loc[df[\"Rang\"]==1,[\"Rang\",\"Skipper\"]].value_counts()"
   ]
  },
  {
   "cell_type": "code",
   "execution_count": null,
   "metadata": {},
   "outputs": [],
   "source": [
    "df[[\"Rang\",\"Skipper\",\"Bateau\"]].groupby(\"Rang\").get_group(1).max()"
   ]
  },
  {
   "cell_type": "markdown",
   "metadata": {},
   "source": [
    "#### Bateau le plus ancien"
   ]
  },
  {
   "cell_type": "code",
   "execution_count": null,
   "metadata": {},
   "outputs": [],
   "source": [
    "print(df_resultats.loc[df_resultats[\"Date de lancement\"].idxmin(),[\"Bateau\",\"Date de lancement\"]])"
   ]
  },
  {
   "cell_type": "markdown",
   "metadata": {},
   "source": [
    "### Machine Learning : Prédiction du classement"
   ]
  },
  {
   "cell_type": "markdown",
   "metadata": {},
   "source": [
    "Le but est de prédire le prochain classement "
   ]
  },
  {
   "cell_type": "code",
   "execution_count": null,
   "metadata": {},
   "outputs": [],
   "source": [
    "#Selection des colonnes\n",
    "colonnes =[\"Skipper\",'Longueur', 'Largeur', \"Tirant d'eau\", 'Nombre de dérives',\n",
    "       'Hauteur mât', 'Voile quille', 'Surface de voiles au près',\n",
    "       'Surface de voiles au portant','DTF','DTL','Depuis 24 heures Vitesse',\"Depuis 24 heures Distance\",\"Rang\"]\n",
    "\n",
    "df_ml=df[colonnes]\n",
    "X = pd.get_dummies(data=df_ml[df_ml.columns[:-1]], drop_first=True)\n",
    "Y=df_ml[\"Rang\"]"
   ]
  },
  {
   "cell_type": "code",
   "execution_count": null,
   "metadata": {},
   "outputs": [],
   "source": [
    "X_train, X_test, y_train, y_test = train_test_split(X, Y, test_size=0.3, random_state=101)\n",
    "\n",
    "print(\"Taille de X_train :\",X_train.shape)\n",
    "print(\"Taille de X_test :\",X_test.shape)\n",
    "print(\"Taille de Y_train :\",y_train.shape)\n",
    "print(\"Taille de Y_test :\",y_test.shape)"
   ]
  },
  {
   "cell_type": "code",
   "execution_count": null,
   "metadata": {},
   "outputs": [],
   "source": [
    "model = LinearRegression()\n",
    "model.fit(X_train,y_train)\n",
    "model.score(X_test, y_test)"
   ]
  },
  {
   "cell_type": "markdown",
   "metadata": {},
   "source": [
    "On remarque que l'accuracy est correcte"
   ]
  },
  {
   "cell_type": "code",
   "execution_count": null,
   "metadata": {},
   "outputs": [],
   "source": [
    "model.coef_"
   ]
  },
  {
   "cell_type": "code",
   "execution_count": null,
   "metadata": {},
   "outputs": [],
   "source": [
    "resultats_regression = pd.DataFrame({'Y_test':y_test, 'Y_prédit':model.predict(X_test)})\n",
    "resultats_regression.head(15)"
   ]
  },
  {
   "cell_type": "code",
   "execution_count": null,
   "metadata": {},
   "outputs": [],
   "source": []
  }
 ],
 "metadata": {
  "kernelspec": {
   "display_name": "Python 3",
   "language": "python",
   "name": "python3"
  },
  "language_info": {
   "codemirror_mode": {
    "name": "ipython",
    "version": 3
   },
   "file_extension": ".py",
   "mimetype": "text/x-python",
   "name": "python",
   "nbconvert_exporter": "python",
   "pygments_lexer": "ipython3",
   "version": "3.8.5"
  }
 },
 "nbformat": 4,
 "nbformat_minor": 4
}
